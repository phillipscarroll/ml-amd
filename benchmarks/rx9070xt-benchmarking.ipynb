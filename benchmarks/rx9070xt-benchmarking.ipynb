{
 "cells": [
  {
   "cell_type": "markdown",
   "metadata": {},
   "source": [
    "# RX 9070 XT Benchmarking"
   ]
  },
  {
   "cell_type": "markdown",
   "metadata": {},
   "source": [
    "### Specs\n",
    "\n",
    "- Specs\n",
    "  - Ryzen 9 9950X3D\n",
    "  - ASRock RX 9070 XT Taichi\n",
    "    - Factory phase change thermal interface replaced with Thermalright Heilos V1\n",
    "    - Factory thermal pads replaced with Upsiren UTP-8 thermal putty\n",
    "  - ASRock B850i ITX\n",
    "  - Corsair DDR5 6000Mhz CL30 EXPO 96GB (48GB x 2)\n",
    "  - be quiet! Silent Loop 3 240mm AIO - Thermal Grizzly Kryosheet\n",
    "  - ASRock 1000w Steel Legend PSU"
   ]
  },
  {
   "cell_type": "markdown",
   "metadata": {},
   "source": [
    "If you purchase this card I would not strip it down and replace the thermal interfaces. The OEM pads are very soft and clay like, this allows for deep seating of the die and full pad contact with components. The die interface is a phase change of some sort, most likely PTM 7950 which is already a top tier tim. I did drop a couple dregrees on all components its not worth the warranty removal. This card in particular hides a screw under the serial number sticker and also has an offset, hard to remove screw keeping the cooler connected to the backplate. \n",
    "\n",
    "Because we are so new in the lifecycle of the RNDA4 product line there is no ROCm support. For now we will just be testing LLM performance against the card using Vulkan and so far its very good."
   ]
  },
  {
   "cell_type": "markdown",
   "metadata": {},
   "source": [
    "### LM Studio LLM Performance\n",
    "\n",
    "- LM Studio Windows 11 Performance\n",
    "  - CPU runtime only\n",
    "  - Default Context Size\n",
    "  - Seed: 65535\n",
    "  - GPU Offload: Max / 100%\n",
    "  - CPU Thread Pool Size: 12\n",
    "  - Flash Attention Off\n",
    "  - Vulkan API (No ROCm support yet)\n",
    "  - Test Prompt\n",
    "    - \"Tell me a real story about someone who never existed tasting the color red while walking through light while in a vacuum of low pressure clouds. This person is always there and knows what you will output so you must craft the story without there knowledge. In the story all things that are possible are impossible and must come before they were created. Describe time as a feeling that only dreams can see awake. Please write the story in under 500 words.\"\n",
    "\n",
    "| Application | GPU | Offload |  Model | Parameters | Quant | Tok/sec | Tokens | Time To 1st Token |\n",
    "| --- | --- | --- | --- | --- | --- | --- | --- | --- |\n",
    "| LM Studio | RX 9070 XT Taichi | 100% | Gemma 3 Instruct | 1B | Q4 | 239.89 | 513 | 0.15s |\n",
    "| LM Studio | RX 9070 XT Taichi | 100% | Gemma 3 Instruct | 4B | Q4 | 135.52 | 490 | 0.12s |\n",
    "| LM Studio | RX 9070 XT Taichi | 100% | Gemma 3 Instruct | 12B | Q4 | 47.51 | 453 | 0.29s |\n",
    "| LM Studio | RX 9070 XT Taichi | 100% | Llama 3.2 Instruct | 1B | Q4 | 360.55 | 514 | 0.00s |\n",
    "| LM Studio | RX 9070 XT Taichi | 100% | Llama 3.2 Instruct | 3B | Q4 | 172.25 | 495 | 0.10s |\n",
    "| LM Studio | RX 9070 XT Taichi | 100% | Phi 4 | 15B | Q4 | 10.79 | 565 | 0.83s |\n",
    "| LM Studio | RX 9070 XT Taichi | 100% | DeepSeek R1 Distill Llama | 8B | Q4 | 89.68 | 950 | 0.18s |\n",
    "| LM Studio | RX 9070 XT Taichi | 100% | DeepSeek R1 Distill Qwen | 14B | Q4 | 10.59 | 801 | 0.40s |\n",
    "| LM Studio | RX 9070 XT Taichi | 100% | Qwen 2.5 Coder Instruct | 3B | Q4 | 172.59 | 477 | 0.11s |\n",
    "| LM Studio | RX 9070 XT Taichi | 100% | Qwen 2.5 Coder Instruct | 14B | Q4 | 10.62 | 494 | 0.40s |\n",
    "| LM Studio | RX 9070 XT Taichi | 100% | Qwen 2.5 Instruct 1M | 7B | Q4 | 94.39 | 590 | 0.17s |\n",
    "| LM Studio | RX 9070 XT Taichi | 100% | Granite 3.2 Instruct | 8B | Q4 | 82.92 | 723 | 0.28s |\n"
   ]
  },
  {
   "cell_type": "markdown",
   "metadata": {},
   "source": []
  }
 ],
 "metadata": {
  "language_info": {
   "name": "python"
  }
 },
 "nbformat": 4,
 "nbformat_minor": 2
}
